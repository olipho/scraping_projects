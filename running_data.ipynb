{
 "cells": [
  {
   "cell_type": "code",
   "execution_count": 24,
   "metadata": {},
   "outputs": [
    {
     "name": "stdout",
     "output_type": "stream",
     "text": [
      "What would you like to do? \n",
      " 1. Enter your ID number \n",
      " 2. Exit \n",
      " Enter an option.1\n",
      "Enter the numerical part of your parkrun id (excluding the A prefix) 3378270\n",
      "What would you like to do? \n",
      " 1. Enter your ID number \n",
      " 2. Exit \n",
      " Enter an option.2\n",
      "Good bye\n"
     ]
    }
   ],
   "source": [
    "# -*- coding: utf-8 -*-\n",
    "\"\"\"\n",
    "Created on Fri Feb 28 21:54:28 2020\n",
    "\n",
    "@author: Dave\n",
    "\"\"\"\n",
    "\n",
    "while 1:\n",
    "    menu = \"What would you like to do? \\n 1. Enter your ID number \\n 2. Exit \\n Enter an option.\"\n",
    "    \n",
    "    x = int(input(menu))\n",
    "    \n",
    "    if x == 1:\n",
    "        \n",
    "        from bs4 import BeautifulSoup, SoupStrainer\n",
    "        import requests\n",
    "\n",
    "        parkrun_id = float(input(\"Enter the numerical part of your parkrun id (excluding the A prefix) \"))\n",
    "\n",
    "        #if parkrun_id >= 0 and isinstance(parkrun_id, int) is True:\n",
    "\n",
    "        headers = {'User-Agent': 'Mozilla/5.0 (Windows NT 5.1; rv:7.0.1) Gecko/20100101 Firefox/7.0.1'}\n",
    "        prefix = 'https://www.parkrun.org.uk/'\n",
    "        # Commented out below so not run by mistake (n.b. 403 error)\n",
    "        webpage_response = requests.get('https://www.parkrun.org.uk/results/athleteresultshistory/?athleteNumber=' + str(parkrun_id), headers = headers)\n",
    "\n",
    "        webpage = webpage_response.content\n",
    "        #parse_only = SoupStrainer(\"a\",{'class': 'review_link'})\n",
    "        soup = BeautifulSoup(webpage, \"html.parser\", parse_only=SoupStrainer('a'))\n",
    "        #print(soup)\n",
    "\n",
    "        links = []\n",
    "\n",
    "        # This will scrape the page based on the individual's parkrun id entered above\n",
    "        search_str = 'athletehistory?athleteNumber=' + str(parkrun_id)\n",
    "\n",
    "        # Output below : I have moved the code into the next cell but do not want to run this cell again \n",
    "        # as it may get me a 403 FORBIDDEN again. \n",
    "\n",
    "        #else:\n",
    "        #    print(\"Not a valid input. Please enter your id.\")\n",
    "\n",
    "    elif x == 2:\n",
    "        print(\"Good bye\")\n",
    "        break\n",
    "        \n",
    "    else:\n",
    "        print(\"Not a valid input. Try again.\")\n",
    "        \n"
   ]
  },
  {
   "cell_type": "code",
   "execution_count": 25,
   "metadata": {},
   "outputs": [
    {
     "name": "stdout",
     "output_type": "stream",
     "text": [
      "['https://www.parkrun.org.uk/lydiard/results/athletehistory?athleteNumber=3378270.0', 'https://www.parkrun.org.uk/cirencester/results/athletehistory?athleteNumber=3378270.0', 'https://www.parkrun.org.uk/sevenfields/results/athletehistory?athleteNumber=3378270.0', 'https://www.parkrun.org.uk/torbayvelopark/results/athletehistory?athleteNumber=3378270.0']\n"
     ]
    }
   ],
   "source": [
    "import re\n",
    "import pandas as pd\n",
    "\n",
    "# Adds all link from soup onto links list\n",
    "for link in soup: \n",
    "    if link.has_attr('href'):\n",
    "        links.append(link['href'])\n",
    "#print(links)\n",
    "\n",
    "# Filters out links other than relevant event link string using search_str\n",
    "event_links = []\n",
    "for a in links:\n",
    "    \n",
    "    if search_str in a:\n",
    "        event_links.append(a)\n",
    "        #print(link['href'])\n",
    "print(event_links)   "
   ]
  },
  {
   "cell_type": "code",
   "execution_count": 26,
   "metadata": {},
   "outputs": [
    {
     "name": "stdout",
     "output_type": "stream",
     "text": [
      "<h2>Adrian FISHER (26 parkruns)\n",
      "        </h2>\n",
      "Adrian FISHER (26 parkruns)\n",
      "        \n"
     ]
    }
   ],
   "source": [
    "soup_name = BeautifulSoup(webpage, \"html.parser\", parse_only=SoupStrainer('h2'))\n",
    "print(soup_name)\n",
    "\n",
    "for i in soup_name:\n",
    "    runner_name = i.get_text(',')\n",
    "\n",
    "print(runner_name)"
   ]
  },
  {
   "cell_type": "code",
   "execution_count": 27,
   "metadata": {},
   "outputs": [
    {
     "name": "stdout",
     "output_type": "stream",
     "text": [
      "['2017', '00:28:47', '55.24%', '2018', '00:28:31', '56.22%', '2019', '00:29:12', '55.42%', '2020', '00:31:05', '52.06%', '15/02/2020', '485', '179', '31:05', '52.06%', '\\n                                \\xa0\\n                                ', '16/11/2019', '471', '210', '29:14', '55.36%', '\\n                                \\xa0\\n                                ', '12/10/2019', '466', '221', '29:21', '55.14%', '\\n                                \\xa0\\n                                ', '17/08/2019', '459', '281', '29:12', '55.42%', '\\n                                \\xa0\\n                                ', '20/07/2019', '456', '273', '29:37', '54.64%', '\\n                                \\xa0\\n                                ', '26/01/2019', '435', '353', '31:02', '51.66%', '\\n                                \\xa0\\n                                ', '28/04/2018', '398', '209', '28:42', '55.87%', '\\n                                \\xa0\\n                                ', '21/04/2018', '397', '219', '28:31', '56.22%', '\\n                                    PB\\n                                \\n                                \\xa0\\n                                ', '14/04/2018', '396', '251', '29:43', '53.95%', '\\n                                \\xa0\\n                                ', '13/01/2018', '385', '311', '29:12', '54.45%', '\\n                                \\xa0\\n                                ', '06/01/2018', '384', '286', '29:39', '53.63%', '\\n                                \\xa0\\n                                ', '16/12/2017', '380', '146', '29:56', '53.12%', '\\n                                \\xa0\\n                                ', '28/10/2017', '373', '263', '28:54', '55.02%', '\\n                                \\xa0\\n                                ', '09/09/2017', '367', '323', '29:51', '53.27%', '\\n                                \\xa0\\n                                ', '06/05/2017', '352', '285', '28:47', '55.24%', '\\n                                \\xa0\\n                                ', '2018', '00:28:41', '55.90%', '2019', '00:29:00', '55.80%', '2020', '00:33:05', '48.92%', '04/01/2020', '98', '124', '33:05', '48.92%', '\\n                                \\xa0\\n                                ', '21/09/2019', '84', '141', '30:44', '52.66%', '\\n                                \\xa0\\n                                ', '18/05/2019', '66', '132', '29:00', '55.80%', '\\n                                \\xa0\\n                                ', '27/04/2019', '63', '89', '29:42', '54.49%', '\\n                                \\xa0\\n                                ', '12/01/2019', '49', '175', '38:34', '41.57%', '\\n                                \\xa0\\n                                ', '06/10/2018', '35', '48', '28:41', '55.90%', '\\n                                \\xa0\\n                                ', '2020', '00:32:10', '50.31%', '14/03/2020', '17', '64', '32:55', '49.57%', '\\n                                \\xa0\\n                                ', '07/03/2020', '16', '99', '36:09', '45.14%', '\\n                                \\xa0\\n                                ', '22/02/2020', '14', '76', '32:15', '50.18%', '\\n                                \\xa0\\n                                ', '25/01/2020', '10', '64', '32:10', '50.31%', '\\n                                \\xa0\\n                                ', '2019', '00:28:22', '57.05%', '11/05/2019', '125', '143', '28:22', '57.05%', '\\n                                \\xa0\\n                                ']\n"
     ]
    }
   ],
   "source": [
    "from itertools import repeat\n",
    "import matplotlib.pyplot as plt\n",
    "import numpy as np\n",
    "\n",
    "#follow each link:\n",
    "run_data = []\n",
    "event_list = []\n",
    "\n",
    "for course in event_links: \n",
    "\n",
    "    headers = {'User-Agent': 'Mozilla/5.0 (Windows NT 5.1; rv:7.0.1) Gecko/20100101 Firefox/7.0.1'}\n",
    "    webpage_new = requests.get(course, headers = headers)\n",
    "    new_soup = BeautifulSoup(webpage_new.content, \"html.parser\") #, parse_only=SoupStrainer('table')\n",
    "    #pretty_soup = new_soup.prettify()\n",
    "    #print(pretty_soup)\n",
    "    running = new_soup.find_all('td')\n",
    "\n",
    "    for r in running[16:]:     # Don't need first 16 items from each page\n",
    "            run_data.append(r.get_text(','))\n",
    "#            results_text = r.get_text(',')\n",
    "    #print(results_text)\n",
    "\n",
    "    #print(results[1:2])\n",
    "\n",
    "#    split_text = results_text.split(',')\n",
    "    \n",
    "    soup_h3 = new_soup.find_all('h3')\n",
    "\n",
    "    for j in soup_h3:\n",
    "        venue_string = j.get_text(',')\n",
    "        venue_name = venue_string.split(' parkrun')[0]\n",
    "    \n",
    "    soup_h2 = new_soup.find_all('h2')     \n",
    "    \n",
    "    for k in soup_h2:\n",
    "        run_string = k.get_text(',')\n",
    "        venue_count =  run_string.split(' ')[3]\n",
    "    \n",
    "    #convert venue_count to integer format:\n",
    "        venue_count = int(venue_count)\n",
    "        \n",
    "        #add venue_name venue_count times to the list\n",
    "        event_list.extend(repeat(venue_name, venue_count))\n",
    "\n",
    "print(run_data)\n",
    "#print(df.head())"
   ]
  },
  {
   "cell_type": "code",
   "execution_count": 28,
   "metadata": {},
   "outputs": [
    {
     "name": "stdout",
     "output_type": "stream",
     "text": [
      "{'Lydiard': 15, 'Cirencester': 6, 'Seven Fields': 4, 'Torbay Velopark': 1}\n"
     ]
    }
   ],
   "source": [
    "# To count how many of each course in the df and to produce graph\n",
    "course_count = dict()\n",
    "for i in event_list:\n",
    "  course_count[i] = course_count.get(i, 0) + 1\n",
    "print(course_count)"
   ]
  },
  {
   "cell_type": "code",
   "execution_count": 29,
   "metadata": {},
   "outputs": [
    {
     "data": {
      "image/png": "[encoded data removed]",
      "text/plain": [
       "<Figure size 432x288 with 1 Axes>"
      ]
     },
     "metadata": {
      "needs_background": "light"
     },
     "output_type": "display_data"
    }
   ],
   "source": [
    "plt.bar(range(len(course_count)), list(course_count.values()), align='center')\n",
    "plt.xticks(range(len(course_count)), list(course_count.keys()))\n",
    "plt.title('Count of parkrun venues for ' + runner_name)\n",
    "#plt.set_xticklabels('Venue Name')\n",
    "plt.show()"
   ]
  },
  {
   "cell_type": "code",
   "execution_count": 30,
   "metadata": {},
   "outputs": [
    {
     "name": "stdout",
     "output_type": "stream",
     "text": [
      "0 2017\n",
      "3 2018\n",
      "6 2019\n",
      "9 2020\n",
      "102 2018\n",
      "105 2019\n",
      "108 2020\n",
      "147 2020\n",
      "174 2019\n",
      "[0, 1, 2, 3, 4, 5, 6, 7, 8, 9, 10, 11, 102, 103, 104, 105, 106, 107, 108, 109, 110, 147, 148, 149, 174, 175, 176]\n",
      "0\n",
      "1\n",
      "2\n",
      "3\n",
      "4\n",
      "5\n",
      "6\n",
      "7\n",
      "8\n",
      "9\n",
      "10\n",
      "11\n",
      "102\n",
      "103\n",
      "104\n",
      "105\n",
      "106\n",
      "107\n",
      "108\n",
      "109\n",
      "110\n",
      "147\n",
      "148\n",
      "149\n",
      "174\n",
      "175\n",
      "176\n",
      "['15/02/2020', '485', '179', '31:05', '52.06%', '\\n                                \\xa0\\n                                ', '16/11/2019', '471', '210', '29:14', '55.36%', '\\n                                \\xa0\\n                                ', '12/10/2019', '466', '221', '29:21', '55.14%', '\\n                                \\xa0\\n                                ', '17/08/2019', '459', '281', '29:12', '55.42%', '\\n                                \\xa0\\n                                ', '20/07/2019', '456', '273', '29:37', '54.64%', '\\n                                \\xa0\\n                                ', '26/01/2019', '435', '353', '31:02', '51.66%', '\\n                                \\xa0\\n                                ', '28/04/2018', '398', '209', '28:42', '55.87%', '\\n                                \\xa0\\n                                ', '21/04/2018', '397', '219', '28:31', '56.22%', '\\n                                    PB\\n                                \\n                                \\xa0\\n                                ', '14/04/2018', '396', '251', '29:43', '53.95%', '\\n                                \\xa0\\n                                ', '13/01/2018', '385', '311', '29:12', '54.45%', '\\n                                \\xa0\\n                                ', '06/01/2018', '384', '286', '29:39', '53.63%', '\\n                                \\xa0\\n                                ', '16/12/2017', '380', '146', '29:56', '53.12%', '\\n                                \\xa0\\n                                ', '28/10/2017', '373', '263', '28:54', '55.02%', '\\n                                \\xa0\\n                                ', '09/09/2017', '367', '323', '29:51', '53.27%', '\\n                                \\xa0\\n                                ', '06/05/2017', '352', '285', '28:47', '55.24%', '\\n                                \\xa0\\n                                ', '04/01/2020', '98', '124', '33:05', '48.92%', '\\n                                \\xa0\\n                                ', '21/09/2019', '84', '141', '30:44', '52.66%', '\\n                                \\xa0\\n                                ', '18/05/2019', '66', '132', '29:00', '55.80%', '\\n                                \\xa0\\n                                ', '27/04/2019', '63', '89', '29:42', '54.49%', '\\n                                \\xa0\\n                                ', '12/01/2019', '49', '175', '38:34', '41.57%', '\\n                                \\xa0\\n                                ', '06/10/2018', '35', '48', '28:41', '55.90%', '\\n                                \\xa0\\n                                ', '14/03/2020', '17', '64', '32:55', '49.57%', '\\n                                \\xa0\\n                                ', '07/03/2020', '16', '99', '36:09', '45.14%', '\\n                                \\xa0\\n                                ', '22/02/2020', '14', '76', '32:15', '50.18%', '\\n                                \\xa0\\n                                ', '25/01/2020', '10', '64', '32:10', '50.31%', '\\n                                \\xa0\\n                                ', '11/05/2019', '125', '143', '28:22', '57.05%', '\\n                                \\xa0\\n                                ']\n"
     ]
    }
   ],
   "source": [
    "years_tuple = ('2004', '2005', '2006', '2007', '2008', '2009', '2010', '2011', '2012', '2013', '2014', '2015', '2016', '2017', '2018', '2019', '2020')\n",
    "\n",
    "run_data_clean = []\n",
    "new_list = []\n",
    "        \n",
    "for idx, val in enumerate(run_data):\n",
    "    if val in years_tuple:\n",
    "        print(idx, val)\n",
    "        run_data_clean.append(idx)\n",
    "        run_data_clean.append(idx + 1)\n",
    "        run_data_clean.append(idx + 2)\n",
    "        \n",
    "        \n",
    "print(run_data_clean)\n",
    "\n",
    "for idx, val in enumerate(run_data):\n",
    "    if idx in run_data_clean:\n",
    "        print(idx)\n",
    "    else:\n",
    "        new_list.append(val)\n",
    "\n",
    "print(new_list)\n"
   ]
  },
  {
   "cell_type": "code",
   "execution_count": 31,
   "metadata": {},
   "outputs": [
    {
     "name": "stdout",
     "output_type": "stream",
     "text": [
      "      Run Date Run Number Position   Time Age Grade  \\\n",
      "0   15/02/2020        485      179  31:05    52.06%   \n",
      "1   16/11/2019        471      210  29:14    55.36%   \n",
      "2   12/10/2019        466      221  29:21    55.14%   \n",
      "3   17/08/2019        459      281  29:12    55.42%   \n",
      "4   20/07/2019        456      273  29:37    54.64%   \n",
      "5   26/01/2019        435      353  31:02    51.66%   \n",
      "6   28/04/2018        398      209  28:42    55.87%   \n",
      "7   21/04/2018        397      219  28:31    56.22%   \n",
      "8   14/04/2018        396      251  29:43    53.95%   \n",
      "9   13/01/2018        385      311  29:12    54.45%   \n",
      "10  06/01/2018        384      286  29:39    53.63%   \n",
      "11  16/12/2017        380      146  29:56    53.12%   \n",
      "12  28/10/2017        373      263  28:54    55.02%   \n",
      "13  09/09/2017        367      323  29:51    53.27%   \n",
      "14  06/05/2017        352      285  28:47    55.24%   \n",
      "15  04/01/2020         98      124  33:05    48.92%   \n",
      "16  21/09/2019         84      141  30:44    52.66%   \n",
      "17  18/05/2019         66      132  29:00    55.80%   \n",
      "18  27/04/2019         63       89  29:42    54.49%   \n",
      "19  12/01/2019         49      175  38:34    41.57%   \n",
      "20  06/10/2018         35       48  28:41    55.90%   \n",
      "21  14/03/2020         17       64  32:55    49.57%   \n",
      "22  07/03/2020         16       99  36:09    45.14%   \n",
      "23  22/02/2020         14       76  32:15    50.18%   \n",
      "24  25/01/2020         10       64  32:10    50.31%   \n",
      "25  11/05/2019        125      143  28:22    57.05%   \n",
      "\n",
      "                                                  PB?       Event Name  \n",
      "0   \\n                                 \\n         ...          Lydiard  \n",
      "1   \\n                                 \\n         ...          Lydiard  \n",
      "2   \\n                                 \\n         ...          Lydiard  \n",
      "3   \\n                                 \\n         ...          Lydiard  \n",
      "4   \\n                                 \\n         ...          Lydiard  \n",
      "5   \\n                                 \\n         ...          Lydiard  \n",
      "6   \\n                                 \\n         ...          Lydiard  \n",
      "7   \\n                                    PB\\n    ...          Lydiard  \n",
      "8   \\n                                 \\n         ...          Lydiard  \n",
      "9   \\n                                 \\n         ...          Lydiard  \n",
      "10  \\n                                 \\n         ...          Lydiard  \n",
      "11  \\n                                 \\n         ...          Lydiard  \n",
      "12  \\n                                 \\n         ...          Lydiard  \n",
      "13  \\n                                 \\n         ...          Lydiard  \n",
      "14  \\n                                 \\n         ...          Lydiard  \n",
      "15  \\n                                 \\n         ...      Cirencester  \n",
      "16  \\n                                 \\n         ...      Cirencester  \n",
      "17  \\n                                 \\n         ...      Cirencester  \n",
      "18  \\n                                 \\n         ...      Cirencester  \n",
      "19  \\n                                 \\n         ...      Cirencester  \n",
      "20  \\n                                 \\n         ...      Cirencester  \n",
      "21  \\n                                 \\n         ...     Seven Fields  \n",
      "22  \\n                                 \\n         ...     Seven Fields  \n",
      "23  \\n                                 \\n         ...     Seven Fields  \n",
      "24  \\n                                 \\n         ...     Seven Fields  \n",
      "25  \\n                                 \\n         ...  Torbay Velopark  \n"
     ]
    }
   ],
   "source": [
    "import datetime, time\n",
    "\n",
    "column_names = ['Run Date', 'Run Number', 'Position', 'Time', 'Age Grade', 'PB?'] # , 'Event Name'\n",
    "\n",
    "df = pd.DataFrame(np.array(new_list).reshape(-1, 6), columns = list(column_names))\n",
    "\n",
    "soup_name = BeautifulSoup(webpage, \"html.parser\", parse_only=SoupStrainer('h2'))\n",
    "#convert list into dataframe column\n",
    "df.loc[:,'Event Name'] = event_list\n",
    "print(df.head(30))"
   ]
  },
  {
   "cell_type": "code",
   "execution_count": 32,
   "metadata": {},
   "outputs": [
    {
     "name": "stdout",
     "output_type": "stream",
     "text": [
      "[1865, 1754, 1761, 1752, 1777, 1862, 1722, 1711, 1783, 1752, 1779, 1796, 1734, 1791, 1727, 1985, 1844, 1740, 1782, 2314, 1721, 1975, 2169, 1935, 1930, 1702]\n"
     ]
    }
   ],
   "source": [
    "time_list = [] # list created to store times as strings\n",
    "seconds_list = [] # list created to store times in seconds to allow calculation of standard dev\n",
    "time_list = df.loc[:, 'Time'].tolist()\n",
    "\n",
    "#Convert time into seconds to enable calculation of stdev\n",
    "def get_sec(time_str):\n",
    "    m, s = time_str.split(':')\n",
    "    return int(m) * 60 + int(s)\n",
    "\n",
    "for i in time_list:\n",
    "    seconds = get_sec(i)\n",
    "    seconds_list.append(seconds)\n",
    "print(seconds_list)"
   ]
  },
  {
   "cell_type": "code",
   "execution_count": 33,
   "metadata": {},
   "outputs": [
    {
     "name": "stdout",
     "output_type": "stream",
     "text": [
      "Mean time in seconds =  1833.1923076923076 seconds\n",
      "Standard Deviation =  143.41 seconds\n",
      "Max value =  38:34\n",
      "Min value =  28:22\n"
     ]
    }
   ],
   "source": [
    "# Mean and standard deviation calcs for times\n",
    "#mean_time = df.loc[:,'Time'].mean()\n",
    "df.loc[:,'Time_seconds'] = seconds_list\n",
    "mean_time_s = df.loc[:,'Time_seconds'].mean()\n",
    "st_dev = round(np.std(seconds_list), 2)\n",
    "\n",
    "# Max and min values for times\n",
    "max_value = df.loc[:,'Time'].max()\n",
    "min_value = df.loc[:,'Time'].min()\n",
    "#print('Mean time = ', mean_time)\n",
    "print('Mean time in seconds = ', mean_time_s, 'seconds')\n",
    "print('Standard Deviation = ', st_dev, 'seconds')\n",
    "print('Max value = ', max_value)\n",
    "print('Min value = ', min_value)\n",
    "#print(df_data2.info())"
   ]
  },
  {
   "cell_type": "code",
   "execution_count": 34,
   "metadata": {},
   "outputs": [
    {
     "name": "stdout",
     "output_type": "stream",
     "text": [
      "The mean of Adrian FISHER (26 parkruns)\n",
      "         times is 00:30:33 or 30 minutes and 33 seconds and the standard deviation is 2 minutes and 23 seconds.\n"
     ]
    }
   ],
   "source": [
    "#convert mean time in seconds back to hours, minutes, seconds\n",
    "#full hours\n",
    "\n",
    "##### DRY - use last function as input for second last and again for first (can't get this to work so commented out)\n",
    "def min_conv(time_seconds):\n",
    "    converted_h = int(time_seconds / 3600)\n",
    "    #remainder hours to be converted to minutes\n",
    "    converted_h_rem = time_seconds % 3600\n",
    "    #print(converted_h_rem)\n",
    "    #full minutes\n",
    "    return str(int(converted_h_rem / 60))\n",
    "\n",
    "def sec_conv(time_seconds):\n",
    "    converted_h = int(time_seconds / 3600)\n",
    "    #remainder hours to be converted to minutes\n",
    "    converted_h_rem = time_seconds % 3600\n",
    "    #full minutes\n",
    "    converted_m = str(int(converted_h_rem / 60))\n",
    "    #remainder minutes to be converted to seconds, rounded to 2dp\n",
    "    return str(int(converted_h_rem % 60))\n",
    "\n",
    "#def sec_conv(time_seconds):\n",
    "#    remainder minutes to be converted to seconds, rounded to 2dp\n",
    "#    converted_m = float(min_conv(time_seconds)) % 60\n",
    "#    print(converted_m)\n",
    "#    return str(int(converted_m))\n",
    "\n",
    "def time_conv(time_seconds):\n",
    "    converted_h = int(time_seconds / 3600)\n",
    "    #remainder hours to be converted to minutes\n",
    "    converted_h_rem = time_seconds % 3600\n",
    "    #full minutes\n",
    "    converted_m = int(converted_h_rem / 60)\n",
    "    #remainder minutes to be converted to seconds, rounded to 2dp\n",
    "    converted_m_rem = int(converted_h_rem % 60)\n",
    "    return '0{0}:{1}:{2}'.format(converted_h, converted_m, converted_m_rem)\n",
    "\n",
    "#print(time_conv(1250))\n",
    "#print(min_conv(1250))\n",
    "#print(sec_conv(1250))\n",
    " \n",
    "\n",
    "# As much as it isn't particularly meaningful to calculate summary statistics for my best times, it's a useful learning exercise.\n",
    "Mean_Time_string = 'The mean of ' + runner_name + ' times is ' +  time_conv(mean_time_s) + ' or ' + min_conv(mean_time_s) + ' minutes and ' + sec_conv(mean_time_s) + ' seconds and the standard deviation is ' + min_conv(st_dev) + ' minutes and ' + sec_conv(st_dev) + ' seconds.'\n",
    "print(Mean_Time_string)\n",
    "                                                                    "
   ]
  },
  {
   "cell_type": "code",
   "execution_count": 35,
   "metadata": {},
   "outputs": [
    {
     "name": "stdout",
     "output_type": "stream",
     "text": [
      "['00:31:5', '00:29:14', '00:29:21', '00:29:12', '00:29:37', '00:31:2', '00:28:42', '00:28:31', '00:29:43', '00:29:12', '00:29:39', '00:29:56', '00:28:54', '00:29:51', '00:28:47', '00:33:5', '00:30:44', '00:29:0', '00:29:42', '00:38:34', '00:28:41', '00:32:55', '00:36:9', '00:32:15', '00:32:10', '00:28:22']\n"
     ]
    }
   ],
   "source": [
    "full_times = []\n",
    "\n",
    "for i in seconds_list:\n",
    "    convert_time = time_conv(i)\n",
    "    full_times.append(convert_time)\n",
    "print(full_times)\n"
   ]
  },
  {
   "cell_type": "code",
   "execution_count": 36,
   "metadata": {},
   "outputs": [
    {
     "data": {
      "image/png": "[encoded data removed]",
      "text/plain": [
       "<Figure size 432x288 with 1 Axes>"
      ]
     },
     "metadata": {
      "needs_background": "light"
     },
     "output_type": "display_data"
    }
   ],
   "source": [
    "cx = plt.subplot()\n",
    "plt.boxplot(seconds_list)\n",
    "plt.title('Spread of parkrun best times for ' + runner_name)\n",
    "#cx.set_xticks(range(len(seconds_list)))\n",
    "#cx.set_yticklabels(range(len(seconds_list)))\n",
    "cx.set_xticklabels('')\n",
    "plt.show()\n",
    "\n",
    "#sort axis labels\n",
    "#remove outliers"
   ]
  },
  {
   "cell_type": "code",
   "execution_count": 37,
   "metadata": {},
   "outputs": [],
   "source": [
    "import datetime, time\n",
    "df.loc[:,'Time_new'] = full_times\n",
    "df.loc[:,'Time_new'] = pd.to_datetime(df.loc[:,'Time_new']).dt.time"
   ]
  },
  {
   "cell_type": "code",
   "execution_count": 38,
   "metadata": {},
   "outputs": [
    {
     "name": "stdout",
     "output_type": "stream",
     "text": [
      "<class 'pandas.core.frame.DataFrame'>\n",
      "RangeIndex: 26 entries, 0 to 25\n",
      "Data columns (total 9 columns):\n",
      "Run Date        26 non-null datetime64[ns]\n",
      "Run Number      26 non-null object\n",
      "Position        26 non-null object\n",
      "Time            26 non-null object\n",
      "Age Grade       26 non-null object\n",
      "PB?             26 non-null object\n",
      "Event Name      26 non-null object\n",
      "Time_seconds    26 non-null int64\n",
      "Time_new        26 non-null object\n",
      "dtypes: datetime64[ns](1), int64(1), object(7)\n",
      "memory usage: 2.0+ KB\n",
      "None\n",
      "<bound method NDFrame.head of      Run Date Run Number Position   Time Age Grade  \\\n",
      "0  2020-02-15        485      179  31:05    52.06%   \n",
      "1  2019-11-16        471      210  29:14    55.36%   \n",
      "2  2019-12-10        466      221  29:21    55.14%   \n",
      "3  2019-08-17        459      281  29:12    55.42%   \n",
      "4  2019-07-20        456      273  29:37    54.64%   \n",
      "5  2019-01-26        435      353  31:02    51.66%   \n",
      "6  2018-04-28        398      209  28:42    55.87%   \n",
      "7  2018-04-21        397      219  28:31    56.22%   \n",
      "8  2018-04-14        396      251  29:43    53.95%   \n",
      "9  2018-01-13        385      311  29:12    54.45%   \n",
      "10 2018-06-01        384      286  29:39    53.63%   \n",
      "11 2017-12-16        380      146  29:56    53.12%   \n",
      "12 2017-10-28        373      263  28:54    55.02%   \n",
      "13 2017-09-09        367      323  29:51    53.27%   \n",
      "14 2017-06-05        352      285  28:47    55.24%   \n",
      "15 2020-04-01         98      124  33:05    48.92%   \n",
      "16 2019-09-21         84      141  30:44    52.66%   \n",
      "17 2019-05-18         66      132  29:00    55.80%   \n",
      "18 2019-04-27         63       89  29:42    54.49%   \n",
      "19 2019-12-01         49      175  38:34    41.57%   \n",
      "20 2018-06-10         35       48  28:41    55.90%   \n",
      "21 2020-03-14         17       64  32:55    49.57%   \n",
      "22 2020-07-03         16       99  36:09    45.14%   \n",
      "23 2020-02-22         14       76  32:15    50.18%   \n",
      "24 2020-01-25         10       64  32:10    50.31%   \n",
      "25 2019-11-05        125      143  28:22    57.05%   \n",
      "\n",
      "                                                  PB?       Event Name  \\\n",
      "0   \\n                                 \\n         ...          Lydiard   \n",
      "1   \\n                                 \\n         ...          Lydiard   \n",
      "2   \\n                                 \\n         ...          Lydiard   \n",
      "3   \\n                                 \\n         ...          Lydiard   \n",
      "4   \\n                                 \\n         ...          Lydiard   \n",
      "5   \\n                                 \\n         ...          Lydiard   \n",
      "6   \\n                                 \\n         ...          Lydiard   \n",
      "7   \\n                                    PB\\n    ...          Lydiard   \n",
      "8   \\n                                 \\n         ...          Lydiard   \n",
      "9   \\n                                 \\n         ...          Lydiard   \n",
      "10  \\n                                 \\n         ...          Lydiard   \n",
      "11  \\n                                 \\n         ...          Lydiard   \n",
      "12  \\n                                 \\n         ...          Lydiard   \n",
      "13  \\n                                 \\n         ...          Lydiard   \n",
      "14  \\n                                 \\n         ...          Lydiard   \n",
      "15  \\n                                 \\n         ...      Cirencester   \n",
      "16  \\n                                 \\n         ...      Cirencester   \n",
      "17  \\n                                 \\n         ...      Cirencester   \n",
      "18  \\n                                 \\n         ...      Cirencester   \n",
      "19  \\n                                 \\n         ...      Cirencester   \n",
      "20  \\n                                 \\n         ...      Cirencester   \n",
      "21  \\n                                 \\n         ...     Seven Fields   \n",
      "22  \\n                                 \\n         ...     Seven Fields   \n",
      "23  \\n                                 \\n         ...     Seven Fields   \n",
      "24  \\n                                 \\n         ...     Seven Fields   \n",
      "25  \\n                                 \\n         ...  Torbay Velopark   \n",
      "\n",
      "    Time_seconds  Time_new  \n",
      "0           1865  00:31:05  \n",
      "1           1754  00:29:14  \n",
      "2           1761  00:29:21  \n",
      "3           1752  00:29:12  \n",
      "4           1777  00:29:37  \n",
      "5           1862  00:31:02  \n",
      "6           1722  00:28:42  \n",
      "7           1711  00:28:31  \n",
      "8           1783  00:29:43  \n",
      "9           1752  00:29:12  \n",
      "10          1779  00:29:39  \n",
      "11          1796  00:29:56  \n",
      "12          1734  00:28:54  \n",
      "13          1791  00:29:51  \n",
      "14          1727  00:28:47  \n",
      "15          1985  00:33:05  \n",
      "16          1844  00:30:44  \n",
      "17          1740  00:29:00  \n",
      "18          1782  00:29:42  \n",
      "19          2314  00:38:34  \n",
      "20          1721  00:28:41  \n",
      "21          1975  00:32:55  \n",
      "22          2169  00:36:09  \n",
      "23          1935  00:32:15  \n",
      "24          1930  00:32:10  \n",
      "25          1702  00:28:22  >\n"
     ]
    }
   ],
   "source": [
    "#convert dates to datetime format so can filter list on dates\n",
    "import datetime\n",
    "#datetime.datetime.strptime('Run Date', \"%d%m%Y\").date()\n",
    "df.loc[:,'Run Date'] = pd.to_datetime(df.loc[:,'Run Date'])\n",
    "#df.loc[:,'Time'] = pd.to_datetime(df.loc[:,'Time']).dt.time #doesn't work - no hour data\n",
    "print(df.info())\n",
    "print(df.head)"
   ]
  },
  {
   "cell_type": "code",
   "execution_count": 39,
   "metadata": {},
   "outputs": [
    {
     "name": "stdout",
     "output_type": "stream",
     "text": [
      "     Run Date Run Number Position   Time Age Grade  \\\n",
      "1  2019-11-16        471      210  29:14    55.36%   \n",
      "2  2019-12-10        466      221  29:21    55.14%   \n",
      "3  2019-08-17        459      281  29:12    55.42%   \n",
      "4  2019-07-20        456      273  29:37    54.64%   \n",
      "5  2019-01-26        435      353  31:02    51.66%   \n",
      "6  2018-04-28        398      209  28:42    55.87%   \n",
      "7  2018-04-21        397      219  28:31    56.22%   \n",
      "8  2018-04-14        396      251  29:43    53.95%   \n",
      "9  2018-01-13        385      311  29:12    54.45%   \n",
      "10 2018-06-01        384      286  29:39    53.63%   \n",
      "11 2017-12-16        380      146  29:56    53.12%   \n",
      "12 2017-10-28        373      263  28:54    55.02%   \n",
      "13 2017-09-09        367      323  29:51    53.27%   \n",
      "14 2017-06-05        352      285  28:47    55.24%   \n",
      "16 2019-09-21         84      141  30:44    52.66%   \n",
      "17 2019-05-18         66      132  29:00    55.80%   \n",
      "18 2019-04-27         63       89  29:42    54.49%   \n",
      "19 2019-12-01         49      175  38:34    41.57%   \n",
      "20 2018-06-10         35       48  28:41    55.90%   \n",
      "24 2020-01-25         10       64  32:10    50.31%   \n",
      "25 2019-11-05        125      143  28:22    57.05%   \n",
      "\n",
      "                                                  PB?       Event Name  \\\n",
      "1   \\n                                 \\n         ...          Lydiard   \n",
      "2   \\n                                 \\n         ...          Lydiard   \n",
      "3   \\n                                 \\n         ...          Lydiard   \n",
      "4   \\n                                 \\n         ...          Lydiard   \n",
      "5   \\n                                 \\n         ...          Lydiard   \n",
      "6   \\n                                 \\n         ...          Lydiard   \n",
      "7   \\n                                    PB\\n    ...          Lydiard   \n",
      "8   \\n                                 \\n         ...          Lydiard   \n",
      "9   \\n                                 \\n         ...          Lydiard   \n",
      "10  \\n                                 \\n         ...          Lydiard   \n",
      "11  \\n                                 \\n         ...          Lydiard   \n",
      "12  \\n                                 \\n         ...          Lydiard   \n",
      "13  \\n                                 \\n         ...          Lydiard   \n",
      "14  \\n                                 \\n         ...          Lydiard   \n",
      "16  \\n                                 \\n         ...      Cirencester   \n",
      "17  \\n                                 \\n         ...      Cirencester   \n",
      "18  \\n                                 \\n         ...      Cirencester   \n",
      "19  \\n                                 \\n         ...      Cirencester   \n",
      "20  \\n                                 \\n         ...      Cirencester   \n",
      "24  \\n                                 \\n         ...     Seven Fields   \n",
      "25  \\n                                 \\n         ...  Torbay Velopark   \n",
      "\n",
      "    Time_seconds  Time_new  \n",
      "1           1754  00:29:14  \n",
      "2           1761  00:29:21  \n",
      "3           1752  00:29:12  \n",
      "4           1777  00:29:37  \n",
      "5           1862  00:31:02  \n",
      "6           1722  00:28:42  \n",
      "7           1711  00:28:31  \n",
      "8           1783  00:29:43  \n",
      "9           1752  00:29:12  \n",
      "10          1779  00:29:39  \n",
      "11          1796  00:29:56  \n",
      "12          1734  00:28:54  \n",
      "13          1791  00:29:51  \n",
      "14          1727  00:28:47  \n",
      "16          1844  00:30:44  \n",
      "17          1740  00:29:00  \n",
      "18          1782  00:29:42  \n",
      "19          2314  00:38:34  \n",
      "20          1721  00:28:41  \n",
      "24          1930  00:32:10  \n",
      "25          1702  00:28:22  \n"
     ]
    }
   ],
   "source": [
    "dates = df[(df['Run Date'] > '2016-01-01') & (df['Run Date'] < '2020-02-01') ]\n",
    "print(dates)"
   ]
  },
  {
   "cell_type": "code",
   "execution_count": 40,
   "metadata": {},
   "outputs": [
    {
     "name": "stdout",
     "output_type": "stream",
     "text": [
      "     Run Date Run Number Position   Time Age Grade  \\\n",
      "0  2020-02-15        485      179  31:05    52.06%   \n",
      "1  2019-11-16        471      210  29:14    55.36%   \n",
      "2  2019-12-10        466      221  29:21    55.14%   \n",
      "3  2019-08-17        459      281  29:12    55.42%   \n",
      "4  2019-07-20        456      273  29:37    54.64%   \n",
      "5  2019-01-26        435      353  31:02    51.66%   \n",
      "6  2018-04-28        398      209  28:42    55.87%   \n",
      "7  2018-04-21        397      219  28:31    56.22%   \n",
      "8  2018-04-14        396      251  29:43    53.95%   \n",
      "9  2018-01-13        385      311  29:12    54.45%   \n",
      "10 2018-06-01        384      286  29:39    53.63%   \n",
      "11 2017-12-16        380      146  29:56    53.12%   \n",
      "12 2017-10-28        373      263  28:54    55.02%   \n",
      "13 2017-09-09        367      323  29:51    53.27%   \n",
      "14 2017-06-05        352      285  28:47    55.24%   \n",
      "15 2020-04-01         98      124  33:05    48.92%   \n",
      "16 2019-09-21         84      141  30:44    52.66%   \n",
      "17 2019-05-18         66      132  29:00    55.80%   \n",
      "18 2019-04-27         63       89  29:42    54.49%   \n",
      "19 2019-12-01         49      175  38:34    41.57%   \n",
      "20 2018-06-10         35       48  28:41    55.90%   \n",
      "21 2020-03-14         17       64  32:55    49.57%   \n",
      "22 2020-07-03         16       99  36:09    45.14%   \n",
      "23 2020-02-22         14       76  32:15    50.18%   \n",
      "24 2020-01-25         10       64  32:10    50.31%   \n",
      "25 2019-11-05        125      143  28:22    57.05%   \n",
      "\n",
      "                                                  PB?       Event Name  \\\n",
      "0   \\n                                 \\n         ...          Lydiard   \n",
      "1   \\n                                 \\n         ...          Lydiard   \n",
      "2   \\n                                 \\n         ...          Lydiard   \n",
      "3   \\n                                 \\n         ...          Lydiard   \n",
      "4   \\n                                 \\n         ...          Lydiard   \n",
      "5   \\n                                 \\n         ...          Lydiard   \n",
      "6   \\n                                 \\n         ...          Lydiard   \n",
      "7   \\n                                    PB\\n    ...          Lydiard   \n",
      "8   \\n                                 \\n         ...          Lydiard   \n",
      "9   \\n                                 \\n         ...          Lydiard   \n",
      "10  \\n                                 \\n         ...          Lydiard   \n",
      "11  \\n                                 \\n         ...          Lydiard   \n",
      "12  \\n                                 \\n         ...          Lydiard   \n",
      "13  \\n                                 \\n         ...          Lydiard   \n",
      "14  \\n                                 \\n         ...          Lydiard   \n",
      "15  \\n                                 \\n         ...      Cirencester   \n",
      "16  \\n                                 \\n         ...      Cirencester   \n",
      "17  \\n                                 \\n         ...      Cirencester   \n",
      "18  \\n                                 \\n         ...      Cirencester   \n",
      "19  \\n                                 \\n         ...      Cirencester   \n",
      "20  \\n                                 \\n         ...      Cirencester   \n",
      "21  \\n                                 \\n         ...     Seven Fields   \n",
      "22  \\n                                 \\n         ...     Seven Fields   \n",
      "23  \\n                                 \\n         ...     Seven Fields   \n",
      "24  \\n                                 \\n         ...     Seven Fields   \n",
      "25  \\n                                 \\n         ...  Torbay Velopark   \n",
      "\n",
      "    Time_seconds  Time_new  \n",
      "0           1865  00:31:05  \n",
      "1           1754  00:29:14  \n",
      "2           1761  00:29:21  \n",
      "3           1752  00:29:12  \n",
      "4           1777  00:29:37  \n",
      "5           1862  00:31:02  \n",
      "6           1722  00:28:42  \n",
      "7           1711  00:28:31  \n",
      "8           1783  00:29:43  \n",
      "9           1752  00:29:12  \n",
      "10          1779  00:29:39  \n",
      "11          1796  00:29:56  \n",
      "12          1734  00:28:54  \n",
      "13          1791  00:29:51  \n",
      "14          1727  00:28:47  \n",
      "15          1985  00:33:05  \n",
      "16          1844  00:30:44  \n",
      "17          1740  00:29:00  \n",
      "18          1782  00:29:42  \n",
      "19          2314  00:38:34  \n",
      "20          1721  00:28:41  \n",
      "21          1975  00:32:55  \n",
      "22          2169  00:36:09  \n",
      "23          1935  00:32:15  \n",
      "24          1930  00:32:10  \n",
      "25          1702  00:28:22  \n"
     ]
    }
   ],
   "source": [
    "# Query to pull out all dates after a certain date and times over a certain amount \n",
    "# Specifically to allow me to filter on runs with Oliver \n",
    "time_cutoff = '2:30' # insert time you want to filter from\n",
    "date_limit = '2010-01-01' # insert date you want to filter from\n",
    "\n",
    "time_conv = get_sec(time_cutoff)\n",
    "\n",
    "#print(time_conv)\n",
    "\n",
    "runs_with_O = df[(df['Run Date'] > date_limit) & (df['Time_seconds'] > time_conv)]\n",
    "\n",
    "print(runs_with_O)\n"
   ]
  },
  {
   "cell_type": "code",
   "execution_count": 41,
   "metadata": {},
   "outputs": [
    {
     "ename": "SyntaxError",
     "evalue": "unexpected EOF while parsing (<ipython-input-41-cc221b9da81a>, line 12)",
     "output_type": "error",
     "traceback": [
      "\u001b[1;36m  File \u001b[1;32m\"<ipython-input-41-cc221b9da81a>\"\u001b[1;36m, line \u001b[1;32m12\u001b[0m\n\u001b[1;33m    rows = [pd.Series([fastest, 100, 20,'Blue','Label_1'], index=df.columns)\u001b[0m\n\u001b[1;37m                                                                            ^\u001b[0m\n\u001b[1;31mSyntaxError\u001b[0m\u001b[1;31m:\u001b[0m unexpected EOF while parsing\n"
     ]
    }
   ],
   "source": [
    "# Use pandas to create a new df showing summary data. Can then use this instead of a dictionary for creating the bar chart\n",
    "\n",
    "print(df.info())\n",
    "\n",
    "#unique values in list\n",
    "unique_venues = df.loc[:, 'Event Name'].unique()\n",
    "print(unique_venues)\n",
    "\n",
    "#loop through values in unique_venues list to collect summary data\n",
    "for i in unique_venues:\n",
    "    fastest = df2.loc[:,'Time'].min()\n",
    "    rows = [pd.Series([fastest, 100, 20,'Blue','Label_1'], index=df.columns)"
   ]
  },
  {
   "cell_type": "code",
   "execution_count": 1,
   "metadata": {},
   "outputs": [
    {
     "name": "stdout",
     "output_type": "stream",
     "text": [
      "What would you like to do? \n",
      " 1. Enter your ID number \n",
      " 2. Exit \n",
      " Enter an option.1\n",
      "Enter the numerical part of your parkrun id (excluding the A prefix) 321\n",
      "Hello\n",
      "What would you like to do? \n",
      " 1. Enter your ID number \n",
      " 2. Exit \n",
      " Enter an option.1\n",
      "Enter the numerical part of your parkrun id (excluding the A prefix) 1.2\n"
     ]
    },
    {
     "ename": "ValueError",
     "evalue": "invalid literal for int() with base 10: '1.2'",
     "output_type": "error",
     "traceback": [
      "\u001b[1;31m---------------------------------------------------------------------------\u001b[0m",
      "\u001b[1;31mValueError\u001b[0m                                Traceback (most recent call last)",
      "\u001b[1;32m<ipython-input-1-d28ea5361762>\u001b[0m in \u001b[0;36m<module>\u001b[1;34m\u001b[0m\n\u001b[0;32m      7\u001b[0m     \u001b[1;32mif\u001b[0m \u001b[0mx\u001b[0m \u001b[1;33m==\u001b[0m \u001b[1;36m1\u001b[0m\u001b[1;33m:\u001b[0m\u001b[1;33m\u001b[0m\u001b[1;33m\u001b[0m\u001b[0m\n\u001b[0;32m      8\u001b[0m \u001b[1;33m\u001b[0m\u001b[0m\n\u001b[1;32m----> 9\u001b[1;33m         \u001b[0mparkrun_id\u001b[0m \u001b[1;33m=\u001b[0m \u001b[0mint\u001b[0m\u001b[1;33m(\u001b[0m\u001b[0minput\u001b[0m\u001b[1;33m(\u001b[0m\u001b[1;34m\"Enter the numerical part of your parkrun id (excluding the A prefix) \"\u001b[0m\u001b[1;33m)\u001b[0m\u001b[1;33m)\u001b[0m\u001b[1;33m\u001b[0m\u001b[1;33m\u001b[0m\u001b[0m\n\u001b[0m\u001b[0;32m     10\u001b[0m \u001b[1;33m\u001b[0m\u001b[0m\n\u001b[0;32m     11\u001b[0m         \u001b[1;31m#if isinstance(parkrun_id, int):\u001b[0m\u001b[1;33m\u001b[0m\u001b[1;33m\u001b[0m\u001b[1;33m\u001b[0m\u001b[0m\n",
      "\u001b[1;31mValueError\u001b[0m: invalid literal for int() with base 10: '1.2'"
     ]
    }
   ],
   "source": [
    "\"\"\" Practice stuff\n",
    "\n",
    "while 1:\n",
    "\n",
    "    menu = \"What would you like to do? \\n 1. Enter your ID number \\n 2. Exit \\n Enter an option.\"\n",
    "\n",
    "    x = int(input(menu))\n",
    "    \n",
    "    if x == 1:\n",
    "    \n",
    "        parkrun_id = int(input(\"Enter the numerical part of your parkrun id (excluding the A prefix) \"))\n",
    "\n",
    "        #if isinstance(parkrun_id, int):\n",
    "\n",
    "\n",
    "        print(\"Hello\")\n",
    "\n",
    "\n",
    "\n",
    "\n",
    "    elif x == 2:\n",
    "        print(\"Good bye!\")\n",
    "        break\n",
    "        \n",
    "    else:\n",
    "        print(\"Not a valid input. Try again.\")\n",
    "        \n",
    "\n",
    "    \"\"\""
   ]
  },
  {
   "cell_type": "code",
   "execution_count": null,
   "metadata": {},
   "outputs": [],
   "source": []
  },
  {
   "cell_type": "code",
   "execution_count": null,
   "metadata": {},
   "outputs": [],
   "source": []
  }
 ],
 "metadata": {
  "kernelspec": {
   "display_name": "Python 3",
   "language": "python",
   "name": "python3"
  },
  "language_info": {
   "codemirror_mode": {
    "name": "ipython",
    "version": 3
   },
   "file_extension": ".py",
   "mimetype": "text/x-python",
   "name": "python",
   "nbconvert_exporter": "python",
   "pygments_lexer": "ipython3",
   "version": "3.7.4"
  }
 },
 "nbformat": 4,
 "nbformat_minor": 2
}
