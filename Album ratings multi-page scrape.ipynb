{
 "cells": [
  {
   "cell_type": "code",
   "execution_count": 1,
   "metadata": {},
   "outputs": [
    {
     "name": "stdout",
     "output_type": "stream",
     "text": [
      "['https://pitchfork.com/reviews/albums/lomelda-hannah/', 'https://pitchfork.com/reviews/albums/jyoti-mama-you-can-bet/', 'https://pitchfork.com/reviews/albums/fireboy-dml-apollo/', 'https://pitchfork.com/reviews/albums/nubya-garcia-source/', 'https://pitchfork.com/reviews/albums/popcaan-fixtape/', 'https://pitchfork.com/reviews/albums/the-microphones-microphones-in-2020/', 'https://pitchfork.com/reviews/albums/dehd-flower-of-devotion/', 'https://pitchfork.com/reviews/albums/julianna-barwick-healing-is-a-miracle/', 'https://pitchfork.com/reviews/albums/special-interest-the-passion-of/', 'https://pitchfork.com/reviews/albums/jessie-ware-whats-your-pleasure/', 'https://pitchfork.com/reviews/albums/haim-women-in-music-pt-iii/', 'https://pitchfork.com/reviews/albums/phoebe-bridgers-punisher/']\n",
      "['8.3', 'Hannah', '8.4', 'Mama, You Can Bet!', '8.3', 'APOLLO', '8.3', 'Source', '8.3', 'FIXTAPE', '8.5', 'Microphones in 2020', '8.3', 'Flower of Devotion', '8.3', 'Healing Is a Miracle', '8.4', 'The Passion Of', '8.3', 'What’s Your Pleasure?', '8.6', 'Women in Music Pt. III', '8.7', 'Punisher']\n",
      "['Lomelda', 'Jyoti', 'Fireboy DML', 'Nubya Garcia', 'Popcaan', 'The Microphones', 'Dehd', 'Julianna Barwick', 'Special Interest', 'Jessie Ware', 'Haim', 'Phoebe Bridgers']\n"
     ]
    }
   ],
   "source": [
    "# -*- coding: utf-8 -*-\n",
    "\"\"\"\n",
    "Created on Mon Mar 16 20:58:30 2020\n",
    "\n",
    "@author: Dave\n",
    "\"\"\"\n",
    "\n",
    "import requests\n",
    "from bs4 import BeautifulSoup, SoupStrainer\n",
    "import pandas as pd\n",
    "import numpy as np\n",
    "\n",
    "headers = {'User-Agent': 'Mozilla/5.0 (Windows NT 5.1; rv:7.0.1) Gecko/20100101 Firefox/7.0.1'}\n",
    "\n",
    "prefix = 'https://pitchfork.com'\n",
    "webpage_response = requests.get('https://pitchfork.com/reviews/best/albums/?page=1', headers = headers)\n",
    "\n",
    "webpage = webpage_response.content\n",
    "#parse_only = SoupStrainer(\"a\",{'class': 'review_link'})\n",
    "soup = BeautifulSoup(webpage, \"html.parser\")\n",
    "\n",
    "album_links = soup.findAll(\"a\", {'class': 'review__link'})\n",
    "links = []\n",
    "#go through all of the a tags and get the links associated with them\n",
    "for a in album_links:\n",
    "    links.append(prefix + a[\"href\"])\n",
    "print(links)    \n",
    "\n",
    "artist_list = []\n",
    "artist_names = soup.findAll(\"ul\", {\"class\": \"artist-list review__title-artist\"})\n",
    "for j in artist_names:\n",
    "        artist_list.append(j.get_text());\n",
    "\n",
    "#albums = [r for r in links if \"reviews/albums\" in r]\n",
    "\n",
    "#print(albums)\n",
    "#Define album_data:\n",
    "album_data = []\n",
    "\n",
    "#follow each link:\n",
    "for link in links:\n",
    "    webpage = requests.get(link)\n",
    "    album = BeautifulSoup(webpage.content, \"html.parser\")\n",
    "    \n",
    "    album_ratings = album.findAll(\"span\", {\"class\": \"score\"})\n",
    "    album_title = album.findAll(\"h1\", {\"class\": \"single-album-tombstone__review-title\"})\n",
    "\n",
    "    def album_loop(soup_type):\n",
    "        for var in soup_type:    \n",
    "            album_data.append(var.get_text());\n",
    "        return album_data\n",
    "    \n",
    "    album_loop(album_ratings)\n",
    "    album_loop(album_title)\n",
    "\n",
    "print(album_data)\n",
    "print(artist_list)\n"
   ]
  },
  {
   "cell_type": "code",
   "execution_count": 3,
   "metadata": {},
   "outputs": [
    {
     "name": "stdout",
     "output_type": "stream",
     "text": [
      "   Score                   Album\n",
      "0    8.3                  Hannah\n",
      "1    8.4      Mama, You Can Bet!\n",
      "2    8.3                  APOLLO\n",
      "3    8.3                  Source\n",
      "4    8.3                 FIXTAPE\n",
      "5    8.5     Microphones in 2020\n",
      "6    8.3      Flower of Devotion\n",
      "7    8.3    Healing Is a Miracle\n",
      "8    8.4          The Passion Of\n",
      "9    8.3   What’s Your Pleasure?\n",
      "10   8.6  Women in Music Pt. III\n",
      "11   8.7                Punisher\n"
     ]
    }
   ],
   "source": [
    "#next step to create df. Add artist_list as one column, then album_data as next two\n",
    "column_names = [\"Score\", \"Album\"]\n",
    "df = pd.DataFrame(np.array(album_data).reshape(-1, 2), columns = list(column_names))\n",
    "print(df)\n"
   ]
  },
  {
   "cell_type": "code",
   "execution_count": 4,
   "metadata": {},
   "outputs": [
    {
     "name": "stdout",
     "output_type": "stream",
     "text": [
      "   Score                   Album            Artist\n",
      "0    8.3                  Hannah           Lomelda\n",
      "1    8.4      Mama, You Can Bet!             Jyoti\n",
      "2    8.3                  APOLLO       Fireboy DML\n",
      "3    8.3                  Source      Nubya Garcia\n",
      "4    8.3                 FIXTAPE           Popcaan\n",
      "5    8.5     Microphones in 2020   The Microphones\n",
      "6    8.3      Flower of Devotion              Dehd\n",
      "7    8.3    Healing Is a Miracle  Julianna Barwick\n",
      "8    8.4          The Passion Of  Special Interest\n",
      "9    8.3   What’s Your Pleasure?       Jessie Ware\n",
      "10   8.6  Women in Music Pt. III              Haim\n",
      "11   8.7                Punisher   Phoebe Bridgers\n"
     ]
    }
   ],
   "source": [
    "#add artist names to dataframe\n",
    "df['Artist'] = artist_list\n",
    "print(df)"
   ]
  },
  {
   "cell_type": "code",
   "execution_count": 5,
   "metadata": {},
   "outputs": [
    {
     "name": "stdout",
     "output_type": "stream",
     "text": [
      "              Artist                   Album Score\n",
      "0            Lomelda                  Hannah   8.3\n",
      "1              Jyoti      Mama, You Can Bet!   8.4\n",
      "2        Fireboy DML                  APOLLO   8.3\n",
      "3       Nubya Garcia                  Source   8.3\n",
      "4            Popcaan                 FIXTAPE   8.3\n",
      "5    The Microphones     Microphones in 2020   8.5\n",
      "6               Dehd      Flower of Devotion   8.3\n",
      "7   Julianna Barwick    Healing Is a Miracle   8.3\n",
      "8   Special Interest          The Passion Of   8.4\n",
      "9        Jessie Ware   What’s Your Pleasure?   8.3\n",
      "10              Haim  Women in Music Pt. III   8.6\n",
      "11   Phoebe Bridgers                Punisher   8.7\n"
     ]
    }
   ],
   "source": [
    "#change column order\n",
    "df = df[['Artist', 'Album', 'Score']]\n",
    "print(df)"
   ]
  },
  {
   "cell_type": "code",
   "execution_count": null,
   "metadata": {},
   "outputs": [],
   "source": []
  },
  {
   "cell_type": "code",
   "execution_count": null,
   "metadata": {},
   "outputs": [],
   "source": []
  },
  {
   "cell_type": "code",
   "execution_count": null,
   "metadata": {},
   "outputs": [],
   "source": []
  }
 ],
 "metadata": {
  "kernelspec": {
   "display_name": "Python 3",
   "language": "python",
   "name": "python3"
  },
  "language_info": {
   "codemirror_mode": {
    "name": "ipython",
    "version": 3
   },
   "file_extension": ".py",
   "mimetype": "text/x-python",
   "name": "python",
   "nbconvert_exporter": "python",
   "pygments_lexer": "ipython3",
   "version": "3.7.4"
  }
 },
 "nbformat": 4,
 "nbformat_minor": 2
}
